{
 "cells": [
  {
   "cell_type": "markdown",
   "id": "3d43e805",
   "metadata": {},
   "source": [
    "# Transforming Data into Features\n",
    "## Project description - by codecademy\n",
    "\"You are a data scientist at a clothing company and are working with a data set of customer reviews. This dataset is originally from Kaggle and has a lot of potential for various machine learning purposes. You are tasked with transforming some of these features to make the data more useful for analysis. To do this, you will have time to practice the following:\n",
    "\n",
    "- Transforming categorical data\n",
    "- Scaling your data\n",
    "- Working with date-time features\"\n"
   ]
  },
  {
   "cell_type": "markdown",
   "id": "767f5ab5",
   "metadata": {},
   "source": [
    "## Data description - from data source\n",
    "\"Welcome. This is a Women’s Clothing E-Commerce dataset revolving around the reviews written by customers. Its nine supportive features offer a great environment to parse out the text through its multiple dimensions. Because this is real commercial data, it has been anonymized, and references to the company in the review text and body have been replaced with “retailer”.\n",
    "\n",
    "This dataset includes 23486 rows and 10 feature variables. Each row corresponds to a customer review, and includes the variables:\n",
    "\n",
    "- Clothing ID: Integer Categorical variable that refers to the specific piece being reviewed.\n",
    "- Age: Positive Integer variable of the reviewers age.\n",
    "- Title: String variable for the title of the review.\n",
    "- Review Text: String variable for the review body.\n",
    "- Rating: Positive Ordinal Integer variable for the product score granted by the customer from 1 Worst, to 5 Best.\n",
    "- Recommended IND: Binary variable stating where the customer recommends the product where 1 is recommended, 0 is not recommended.\n",
    "- Positive Feedback Count: Positive Integer documenting the number of other customers who found this review positive.\n",
    "- Division Name: Categorical name of the product high level division.\n",
    "- Department Name: Categorical name of the product department name.\n",
    "- Class Name: Categorical name of the product class name.\"\n",
    "\n",
    "\"Anonymous but real source\""
   ]
  },
  {
   "cell_type": "markdown",
   "id": "0b2a5a12",
   "metadata": {},
   "source": [
    "## Code"
   ]
  },
  {
   "cell_type": "code",
   "execution_count": 27,
   "id": "8efc72d1",
   "metadata": {},
   "outputs": [],
   "source": [
    "# import necessary packages\n",
    "import pandas as pd\n",
    "import numpy as np\n",
    "from sklearn.preprocessing import StandardScaler"
   ]
  },
  {
   "cell_type": "code",
   "execution_count": 28,
   "id": "240043db",
   "metadata": {},
   "outputs": [],
   "source": [
    "# import data\n",
    "## note: data used in this notebook is copied from codecademy; \n",
    "##       the dataset is smaller and slightly different than the origianl\n",
    "reviews = pd.read_csv('reviews.csv')"
   ]
  },
  {
   "cell_type": "code",
   "execution_count": 29,
   "id": "e91b39e1",
   "metadata": {},
   "outputs": [
    {
     "name": "stdout",
     "output_type": "stream",
     "text": [
      "Index(['clothing_id', 'age', 'review_title', 'review_text', 'recommended',\n",
      "       'division_name', 'department_name', 'review_date', 'rating'],\n",
      "      dtype='object')\n",
      "<class 'pandas.core.frame.DataFrame'>\n",
      "RangeIndex: 5000 entries, 0 to 4999\n",
      "Data columns (total 9 columns):\n",
      " #   Column           Non-Null Count  Dtype \n",
      "---  ------           --------------  ----- \n",
      " 0   clothing_id      5000 non-null   int64 \n",
      " 1   age              5000 non-null   int64 \n",
      " 2   review_title     4174 non-null   object\n",
      " 3   review_text      4804 non-null   object\n",
      " 4   recommended      5000 non-null   bool  \n",
      " 5   division_name    4996 non-null   object\n",
      " 6   department_name  4996 non-null   object\n",
      " 7   review_date      5000 non-null   object\n",
      " 8   rating           5000 non-null   object\n",
      "dtypes: bool(1), int64(2), object(6)\n",
      "memory usage: 317.5+ KB\n",
      "None\n"
     ]
    }
   ],
   "source": [
    "#print column names\n",
    "print(reviews.columns)\n",
    " \n",
    "#print .info\n",
    "print(reviews.info())"
   ]
  },
  {
   "cell_type": "code",
   "execution_count": 30,
   "id": "75968359",
   "metadata": {},
   "outputs": [
    {
     "name": "stdout",
     "output_type": "stream",
     "text": [
      "True     4166\n",
      "False     834\n",
      "Name: recommended, dtype: int64\n",
      "1    4166\n",
      "0     834\n",
      "Name: recommended, dtype: int64\n"
     ]
    }
   ],
   "source": [
    "#look at the counts of recommended\n",
    "print(reviews['recommended'].value_counts())\n",
    " \n",
    "#create binary dictionary\n",
    "binary_dict = {True: 1,\n",
    "False: 0}\n",
    " \n",
    "#transform column\n",
    "reviews['recommended'] = reviews['recommended'].replace(binary_dict)\n",
    " \n",
    "#print your transformed column\n",
    "print(reviews['recommended'].value_counts())"
   ]
  },
  {
   "cell_type": "code",
   "execution_count": 31,
   "id": "f91174d5",
   "metadata": {},
   "outputs": [
    {
     "name": "stdout",
     "output_type": "stream",
     "text": [
      "Loved it     2798\n",
      "Liked it     1141\n",
      "Was okay      564\n",
      "Not great     304\n",
      "Hated it      193\n",
      "Name: rating, dtype: int64\n",
      "5    2798\n",
      "4    1141\n",
      "3     564\n",
      "2     304\n",
      "1     193\n",
      "Name: rating, dtype: int64\n"
     ]
    }
   ],
   "source": [
    "#look at the counts of rating\n",
    "print(reviews['rating'].value_counts())\n",
    " \n",
    "#create dictionary\n",
    "rating_dict = {'Loved it': 5,\n",
    "'Liked it': 4,\n",
    "'Was okay': 3,\n",
    "'Not great': 2,\n",
    "'Hated it': 1\n",
    "}\n",
    " \n",
    "#transform rating column\n",
    "reviews['rating'] = reviews['rating'].replace(rating_dict)\n",
    " \n",
    "#print your transformed column values\n",
    "print(reviews['rating'].value_counts())"
   ]
  },
  {
   "cell_type": "code",
   "execution_count": 32,
   "id": "b418f577",
   "metadata": {},
   "outputs": [
    {
     "name": "stdout",
     "output_type": "stream",
     "text": [
      "Tops        2196\n",
      "Dresses     1322\n",
      "Bottoms      848\n",
      "Intimate     378\n",
      "Jackets      224\n",
      "Trend         28\n",
      "Name: department_name, dtype: int64\n",
      "Index(['clothing_id', 'age', 'review_title', 'review_text', 'recommended',\n",
      "       'division_name', 'department_name', 'review_date', 'rating', 'Bottoms',\n",
      "       'Dresses', 'Intimate', 'Jackets', 'Tops', 'Trend'],\n",
      "      dtype='object')\n"
     ]
    }
   ],
   "source": [
    "#get the number of categories in a feature\n",
    "print(reviews['department_name'].value_counts())\n",
    " \n",
    "#perform get_dummies\n",
    "one_hot = pd.get_dummies(reviews['department_name'])\n",
    " \n",
    "#join the new columns back onto the original\n",
    "reviews = reviews.join(one_hot)\n",
    "\n",
    "#print column names\n",
    "print(reviews.columns)"
   ]
  },
  {
   "cell_type": "code",
   "execution_count": 33,
   "id": "edbb5113",
   "metadata": {},
   "outputs": [
    {
     "data": {
      "text/html": [
       "<div>\n",
       "<style scoped>\n",
       "    .dataframe tbody tr th:only-of-type {\n",
       "        vertical-align: middle;\n",
       "    }\n",
       "\n",
       "    .dataframe tbody tr th {\n",
       "        vertical-align: top;\n",
       "    }\n",
       "\n",
       "    .dataframe thead th {\n",
       "        text-align: right;\n",
       "    }\n",
       "</style>\n",
       "<table border=\"1\" class=\"dataframe\">\n",
       "  <thead>\n",
       "    <tr style=\"text-align: right;\">\n",
       "      <th></th>\n",
       "      <th>clothing_id</th>\n",
       "      <th>age</th>\n",
       "      <th>review_title</th>\n",
       "      <th>review_text</th>\n",
       "      <th>recommended</th>\n",
       "      <th>division_name</th>\n",
       "      <th>department_name</th>\n",
       "      <th>review_date</th>\n",
       "      <th>rating</th>\n",
       "      <th>Bottoms</th>\n",
       "      <th>Dresses</th>\n",
       "      <th>Intimate</th>\n",
       "      <th>Jackets</th>\n",
       "      <th>Tops</th>\n",
       "      <th>Trend</th>\n",
       "    </tr>\n",
       "  </thead>\n",
       "  <tbody>\n",
       "    <tr>\n",
       "      <th>0</th>\n",
       "      <td>1095</td>\n",
       "      <td>39</td>\n",
       "      <td>Cute,looks like a dress on</td>\n",
       "      <td>If you are afraid of the jumpsuit trend but li...</td>\n",
       "      <td>1</td>\n",
       "      <td>General</td>\n",
       "      <td>Dresses</td>\n",
       "      <td>2019-07-08</td>\n",
       "      <td>4</td>\n",
       "      <td>0</td>\n",
       "      <td>1</td>\n",
       "      <td>0</td>\n",
       "      <td>0</td>\n",
       "      <td>0</td>\n",
       "      <td>0</td>\n",
       "    </tr>\n",
       "    <tr>\n",
       "      <th>1</th>\n",
       "      <td>1095</td>\n",
       "      <td>28</td>\n",
       "      <td>So cute, great print!</td>\n",
       "      <td>I love fitted top dresses like this but i find...</td>\n",
       "      <td>1</td>\n",
       "      <td>General</td>\n",
       "      <td>Dresses</td>\n",
       "      <td>2019-05-17</td>\n",
       "      <td>5</td>\n",
       "      <td>0</td>\n",
       "      <td>1</td>\n",
       "      <td>0</td>\n",
       "      <td>0</td>\n",
       "      <td>0</td>\n",
       "      <td>0</td>\n",
       "    </tr>\n",
       "    <tr>\n",
       "      <th>2</th>\n",
       "      <td>699</td>\n",
       "      <td>37</td>\n",
       "      <td>So flattering!</td>\n",
       "      <td>I love these cozy, fashionable leggings. they ...</td>\n",
       "      <td>1</td>\n",
       "      <td>Initmates</td>\n",
       "      <td>Intimate</td>\n",
       "      <td>2019-06-24</td>\n",
       "      <td>5</td>\n",
       "      <td>0</td>\n",
       "      <td>0</td>\n",
       "      <td>1</td>\n",
       "      <td>0</td>\n",
       "      <td>0</td>\n",
       "      <td>0</td>\n",
       "    </tr>\n",
       "    <tr>\n",
       "      <th>3</th>\n",
       "      <td>1072</td>\n",
       "      <td>36</td>\n",
       "      <td>Effortless</td>\n",
       "      <td>Another reviewer said it best, \"i love the way...</td>\n",
       "      <td>1</td>\n",
       "      <td>General Petite</td>\n",
       "      <td>Dresses</td>\n",
       "      <td>2019-12-06</td>\n",
       "      <td>5</td>\n",
       "      <td>0</td>\n",
       "      <td>1</td>\n",
       "      <td>0</td>\n",
       "      <td>0</td>\n",
       "      <td>0</td>\n",
       "      <td>0</td>\n",
       "    </tr>\n",
       "    <tr>\n",
       "      <th>4</th>\n",
       "      <td>1094</td>\n",
       "      <td>32</td>\n",
       "      <td>You need this!</td>\n",
       "      <td>Rompers are my fav so i'm biased writing this ...</td>\n",
       "      <td>1</td>\n",
       "      <td>General</td>\n",
       "      <td>Dresses</td>\n",
       "      <td>2019-10-04</td>\n",
       "      <td>5</td>\n",
       "      <td>0</td>\n",
       "      <td>1</td>\n",
       "      <td>0</td>\n",
       "      <td>0</td>\n",
       "      <td>0</td>\n",
       "      <td>0</td>\n",
       "    </tr>\n",
       "  </tbody>\n",
       "</table>\n",
       "</div>"
      ],
      "text/plain": [
       "   clothing_id  age                review_title  \\\n",
       "0         1095   39  Cute,looks like a dress on   \n",
       "1         1095   28       So cute, great print!   \n",
       "2          699   37              So flattering!   \n",
       "3         1072   36                  Effortless   \n",
       "4         1094   32              You need this!   \n",
       "\n",
       "                                         review_text  recommended  \\\n",
       "0  If you are afraid of the jumpsuit trend but li...            1   \n",
       "1  I love fitted top dresses like this but i find...            1   \n",
       "2  I love these cozy, fashionable leggings. they ...            1   \n",
       "3  Another reviewer said it best, \"i love the way...            1   \n",
       "4  Rompers are my fav so i'm biased writing this ...            1   \n",
       "\n",
       "    division_name department_name review_date  rating  Bottoms  Dresses  \\\n",
       "0         General         Dresses  2019-07-08       4        0        1   \n",
       "1         General         Dresses  2019-05-17       5        0        1   \n",
       "2       Initmates        Intimate  2019-06-24       5        0        0   \n",
       "3  General Petite         Dresses  2019-12-06       5        0        1   \n",
       "4         General         Dresses  2019-10-04       5        0        1   \n",
       "\n",
       "   Intimate  Jackets  Tops  Trend  \n",
       "0         0        0     0      0  \n",
       "1         0        0     0      0  \n",
       "2         1        0     0      0  \n",
       "3         0        0     0      0  \n",
       "4         0        0     0      0  "
      ]
     },
     "execution_count": 33,
     "metadata": {},
     "output_type": "execute_result"
    }
   ],
   "source": [
    "reviews.head()\n",
    "# illlustrates that we have one hot encoded the department name to each row"
   ]
  },
  {
   "cell_type": "code",
   "execution_count": 34,
   "id": "ac223ddb",
   "metadata": {},
   "outputs": [
    {
     "name": "stdout",
     "output_type": "stream",
     "text": [
      "datetime64[ns]\n"
     ]
    }
   ],
   "source": [
    "#transform review_date to date-time data\n",
    "reviews['review_date'] = pd.to_datetime(reviews['review_date'])\n",
    "\n",
    "#print review_date data type \n",
    "print(reviews['review_date'].dtype)"
   ]
  },
  {
   "cell_type": "code",
   "execution_count": 35,
   "id": "44142ca2",
   "metadata": {},
   "outputs": [
    {
     "name": "stdout",
     "output_type": "stream",
     "text": [
      "<class 'pandas.core.frame.DataFrame'>\n",
      "RangeIndex: 5000 entries, 0 to 4999\n",
      "Data columns (total 10 columns):\n",
      " #   Column       Non-Null Count  Dtype\n",
      "---  ------       --------------  -----\n",
      " 0   clothing_id  5000 non-null   int64\n",
      " 1   age          5000 non-null   int64\n",
      " 2   recommended  5000 non-null   int64\n",
      " 3   rating       5000 non-null   int64\n",
      " 4   Bottoms      5000 non-null   uint8\n",
      " 5   Dresses      5000 non-null   uint8\n",
      " 6   Intimate     5000 non-null   uint8\n",
      " 7   Jackets      5000 non-null   uint8\n",
      " 8   Tops         5000 non-null   uint8\n",
      " 9   Trend        5000 non-null   uint8\n",
      "dtypes: int64(4), uint8(6)\n",
      "memory usage: 185.7 KB\n",
      "None\n"
     ]
    }
   ],
   "source": [
    "#get numerical columns\n",
    "reviews = reviews.select_dtypes(['number'])\n",
    "print(reviews.info())"
   ]
  },
  {
   "cell_type": "code",
   "execution_count": 36,
   "id": "790a01e0",
   "metadata": {},
   "outputs": [
    {
     "name": "stdout",
     "output_type": "stream",
     "text": [
      "             age  recommended  rating  Bottoms  Dresses  Intimate  Jackets  \\\n",
      "clothing_id                                                                  \n",
      "1095          39            1       4        0        1         0        0   \n",
      "1095          28            1       5        0        1         0        0   \n",
      "699           37            1       5        0        0         1        0   \n",
      "1072          36            1       5        0        1         0        0   \n",
      "1094          32            1       5        0        1         0        0   \n",
      "\n",
      "             Tops  Trend  \n",
      "clothing_id               \n",
      "1095            0      0  \n",
      "1095            0      0  \n",
      "699             0      0  \n",
      "1072            0      0  \n",
      "1094            0      0  \n"
     ]
    }
   ],
   "source": [
    "#reset index\n",
    "reviews.set_index('clothing_id',inplace=True)\n",
    "print(reviews.head())"
   ]
  },
  {
   "cell_type": "code",
   "execution_count": 37,
   "id": "a1f03d52",
   "metadata": {},
   "outputs": [
    {
     "name": "stdout",
     "output_type": "stream",
     "text": [
      "[[-0.34814459  0.44742824 -0.1896478  ... -0.21656679 -0.88496718\n",
      "  -0.07504356]\n",
      " [-1.24475223  0.44742824  0.71602461 ... -0.21656679 -0.88496718\n",
      "  -0.07504356]\n",
      " [-0.51116416  0.44742824  0.71602461 ... -0.21656679 -0.88496718\n",
      "  -0.07504356]\n",
      " ...\n",
      " [-0.59267395  0.44742824  0.71602461 ... -0.21656679 -0.88496718\n",
      "  -0.07504356]\n",
      " [-1.24475223  0.44742824  0.71602461 ... -0.21656679 -0.88496718\n",
      "  -0.07504356]\n",
      " [ 1.68960003  0.44742824  0.71602461 ... -0.21656679  1.12998541\n",
      "  -0.07504356]]\n"
     ]
    }
   ],
   "source": [
    "#instantiate standard scaler\n",
    "scaler = StandardScaler()\n",
    "\n",
    "#fit transform data\n",
    "scaled_reviews = scaler.fit_transform(reviews)\n",
    "print(scaled_reviews)"
   ]
  },
  {
   "cell_type": "code",
   "execution_count": 38,
   "id": "ca1bdc6a",
   "metadata": {},
   "outputs": [
    {
     "data": {
      "text/html": [
       "<div>\n",
       "<style scoped>\n",
       "    .dataframe tbody tr th:only-of-type {\n",
       "        vertical-align: middle;\n",
       "    }\n",
       "\n",
       "    .dataframe tbody tr th {\n",
       "        vertical-align: top;\n",
       "    }\n",
       "\n",
       "    .dataframe thead th {\n",
       "        text-align: right;\n",
       "    }\n",
       "</style>\n",
       "<table border=\"1\" class=\"dataframe\">\n",
       "  <thead>\n",
       "    <tr style=\"text-align: right;\">\n",
       "      <th></th>\n",
       "      <th>age</th>\n",
       "      <th>recommended</th>\n",
       "      <th>rating</th>\n",
       "      <th>Bottoms</th>\n",
       "      <th>Dresses</th>\n",
       "      <th>Intimate</th>\n",
       "      <th>Jackets</th>\n",
       "      <th>Tops</th>\n",
       "      <th>Trend</th>\n",
       "    </tr>\n",
       "    <tr>\n",
       "      <th>clothing_id</th>\n",
       "      <th></th>\n",
       "      <th></th>\n",
       "      <th></th>\n",
       "      <th></th>\n",
       "      <th></th>\n",
       "      <th></th>\n",
       "      <th></th>\n",
       "      <th></th>\n",
       "      <th></th>\n",
       "    </tr>\n",
       "  </thead>\n",
       "  <tbody>\n",
       "    <tr>\n",
       "      <th>1095</th>\n",
       "      <td>-0.348145</td>\n",
       "      <td>0.447428</td>\n",
       "      <td>-0.189648</td>\n",
       "      <td>-0.451928</td>\n",
       "      <td>1.667977</td>\n",
       "      <td>-0.285977</td>\n",
       "      <td>-0.216567</td>\n",
       "      <td>-0.884967</td>\n",
       "      <td>-0.075044</td>\n",
       "    </tr>\n",
       "    <tr>\n",
       "      <th>1095</th>\n",
       "      <td>-1.244752</td>\n",
       "      <td>0.447428</td>\n",
       "      <td>0.716025</td>\n",
       "      <td>-0.451928</td>\n",
       "      <td>1.667977</td>\n",
       "      <td>-0.285977</td>\n",
       "      <td>-0.216567</td>\n",
       "      <td>-0.884967</td>\n",
       "      <td>-0.075044</td>\n",
       "    </tr>\n",
       "    <tr>\n",
       "      <th>699</th>\n",
       "      <td>-0.511164</td>\n",
       "      <td>0.447428</td>\n",
       "      <td>0.716025</td>\n",
       "      <td>-0.451928</td>\n",
       "      <td>-0.599529</td>\n",
       "      <td>3.496786</td>\n",
       "      <td>-0.216567</td>\n",
       "      <td>-0.884967</td>\n",
       "      <td>-0.075044</td>\n",
       "    </tr>\n",
       "    <tr>\n",
       "      <th>1072</th>\n",
       "      <td>-0.592674</td>\n",
       "      <td>0.447428</td>\n",
       "      <td>0.716025</td>\n",
       "      <td>-0.451928</td>\n",
       "      <td>1.667977</td>\n",
       "      <td>-0.285977</td>\n",
       "      <td>-0.216567</td>\n",
       "      <td>-0.884967</td>\n",
       "      <td>-0.075044</td>\n",
       "    </tr>\n",
       "    <tr>\n",
       "      <th>1094</th>\n",
       "      <td>-0.918713</td>\n",
       "      <td>0.447428</td>\n",
       "      <td>0.716025</td>\n",
       "      <td>-0.451928</td>\n",
       "      <td>1.667977</td>\n",
       "      <td>-0.285977</td>\n",
       "      <td>-0.216567</td>\n",
       "      <td>-0.884967</td>\n",
       "      <td>-0.075044</td>\n",
       "    </tr>\n",
       "  </tbody>\n",
       "</table>\n",
       "</div>"
      ],
      "text/plain": [
       "                  age  recommended    rating   Bottoms   Dresses  Intimate  \\\n",
       "clothing_id                                                                  \n",
       "1095        -0.348145     0.447428 -0.189648 -0.451928  1.667977 -0.285977   \n",
       "1095        -1.244752     0.447428  0.716025 -0.451928  1.667977 -0.285977   \n",
       "699         -0.511164     0.447428  0.716025 -0.451928 -0.599529  3.496786   \n",
       "1072        -0.592674     0.447428  0.716025 -0.451928  1.667977 -0.285977   \n",
       "1094        -0.918713     0.447428  0.716025 -0.451928  1.667977 -0.285977   \n",
       "\n",
       "              Jackets      Tops     Trend  \n",
       "clothing_id                                \n",
       "1095        -0.216567 -0.884967 -0.075044  \n",
       "1095        -0.216567 -0.884967 -0.075044  \n",
       "699         -0.216567 -0.884967 -0.075044  \n",
       "1072        -0.216567 -0.884967 -0.075044  \n",
       "1094        -0.216567 -0.884967 -0.075044  "
      ]
     },
     "execution_count": 38,
     "metadata": {},
     "output_type": "execute_result"
    }
   ],
   "source": [
    "# transfer scaled reviews array to the reviews dataframe\n",
    "reviews = pd.DataFrame(scaled_reviews, index=reviews.index, columns=reviews.columns)\n",
    "reviews.head()"
   ]
  },
  {
   "cell_type": "code",
   "execution_count": null,
   "id": "3453db20",
   "metadata": {},
   "outputs": [],
   "source": []
  }
 ],
 "metadata": {
  "kernelspec": {
   "display_name": "Python 3 (ipykernel)",
   "language": "python",
   "name": "python3"
  },
  "language_info": {
   "codemirror_mode": {
    "name": "ipython",
    "version": 3
   },
   "file_extension": ".py",
   "mimetype": "text/x-python",
   "name": "python",
   "nbconvert_exporter": "python",
   "pygments_lexer": "ipython3",
   "version": "3.7.11"
  }
 },
 "nbformat": 4,
 "nbformat_minor": 5
}
